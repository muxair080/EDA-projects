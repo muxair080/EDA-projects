{
 "cells": [
  {
   "cell_type": "code",
   "execution_count": 1,
   "id": "bf4a159c",
   "metadata": {},
   "outputs": [
    {
     "name": "stdout",
     "output_type": "stream",
     "text": [
      "Collecting pandas-datareader\n",
      "  Downloading pandas_datareader-0.10.0-py3-none-any.whl (109 kB)\n",
      "     ------------------------------------ 109.5/109.5 kB 793.8 kB/s eta 0:00:00\n",
      "Requirement already satisfied: pandas>=0.23 in c:\\users\\muxair\\anaconda3\\lib\\site-packages (from pandas-datareader) (1.4.2)\n",
      "Requirement already satisfied: lxml in c:\\users\\muxair\\anaconda3\\lib\\site-packages (from pandas-datareader) (4.8.0)\n",
      "Requirement already satisfied: requests>=2.19.0 in c:\\users\\muxair\\anaconda3\\lib\\site-packages (from pandas-datareader) (2.26.0)\n",
      "Requirement already satisfied: numpy>=1.18.5 in c:\\users\\muxair\\anaconda3\\lib\\site-packages (from pandas>=0.23->pandas-datareader) (1.21.5)\n",
      "Requirement already satisfied: python-dateutil>=2.8.1 in c:\\users\\muxair\\anaconda3\\lib\\site-packages (from pandas>=0.23->pandas-datareader) (2.8.2)\n",
      "Requirement already satisfied: pytz>=2020.1 in c:\\users\\muxair\\anaconda3\\lib\\site-packages (from pandas>=0.23->pandas-datareader) (2021.3)\n",
      "Requirement already satisfied: certifi>=2017.4.17 in c:\\users\\muxair\\anaconda3\\lib\\site-packages (from requests>=2.19.0->pandas-datareader) (2021.10.8)\n",
      "Requirement already satisfied: charset-normalizer~=2.0.0 in c:\\users\\muxair\\anaconda3\\lib\\site-packages (from requests>=2.19.0->pandas-datareader) (2.0.4)\n",
      "Requirement already satisfied: idna<4,>=2.5 in c:\\users\\muxair\\anaconda3\\lib\\site-packages (from requests>=2.19.0->pandas-datareader) (3.3)\n",
      "Requirement already satisfied: urllib3<1.27,>=1.21.1 in c:\\users\\muxair\\anaconda3\\lib\\site-packages (from requests>=2.19.0->pandas-datareader) (1.26.9)\n",
      "Requirement already satisfied: six>=1.5 in c:\\users\\muxair\\anaconda3\\lib\\site-packages (from python-dateutil>=2.8.1->pandas>=0.23->pandas-datareader) (1.16.0)\n",
      "Installing collected packages: pandas-datareader\n",
      "Successfully installed pandas-datareader-0.10.0\n"
     ]
    }
   ],
   "source": [
    "!pip install pandas-datareader\n"
   ]
  },
  {
   "cell_type": "code",
   "execution_count": 3,
   "id": "ecbe987b",
   "metadata": {},
   "outputs": [],
   "source": [
    "import pandas_datareader as pdr\n",
    "import pandas as pd\n",
    "from datetime import datetime"
   ]
  },
  {
   "cell_type": "code",
   "execution_count": 4,
   "id": "0b0ce8ca",
   "metadata": {},
   "outputs": [
    {
     "data": {
      "text/html": [
       "<div>\n",
       "<style scoped>\n",
       "    .dataframe tbody tr th:only-of-type {\n",
       "        vertical-align: middle;\n",
       "    }\n",
       "\n",
       "    .dataframe tbody tr th {\n",
       "        vertical-align: top;\n",
       "    }\n",
       "\n",
       "    .dataframe thead th {\n",
       "        text-align: right;\n",
       "    }\n",
       "</style>\n",
       "<table border=\"1\" class=\"dataframe\">\n",
       "  <thead>\n",
       "    <tr style=\"text-align: right;\">\n",
       "      <th></th>\n",
       "      <th>GS10</th>\n",
       "    </tr>\n",
       "    <tr>\n",
       "      <th>DATE</th>\n",
       "      <th></th>\n",
       "    </tr>\n",
       "  </thead>\n",
       "  <tbody>\n",
       "    <tr>\n",
       "      <th>2018-01-01</th>\n",
       "      <td>2.58</td>\n",
       "    </tr>\n",
       "    <tr>\n",
       "      <th>2018-02-01</th>\n",
       "      <td>2.86</td>\n",
       "    </tr>\n",
       "    <tr>\n",
       "      <th>2018-03-01</th>\n",
       "      <td>2.84</td>\n",
       "    </tr>\n",
       "    <tr>\n",
       "      <th>2018-04-01</th>\n",
       "      <td>2.87</td>\n",
       "    </tr>\n",
       "    <tr>\n",
       "      <th>2018-05-01</th>\n",
       "      <td>2.98</td>\n",
       "    </tr>\n",
       "  </tbody>\n",
       "</table>\n",
       "</div>"
      ],
      "text/plain": [
       "            GS10\n",
       "DATE            \n",
       "2018-01-01  2.58\n",
       "2018-02-01  2.86\n",
       "2018-03-01  2.84\n",
       "2018-04-01  2.87\n",
       "2018-05-01  2.98"
      ]
     },
     "execution_count": 4,
     "metadata": {},
     "output_type": "execute_result"
    }
   ],
   "source": [
    "pdr.get_data_fred('GS10').head()\n"
   ]
  },
  {
   "cell_type": "code",
   "execution_count": 17,
   "id": "d0d88bf3",
   "metadata": {},
   "outputs": [],
   "source": [
    "# # pdr.get_data_yahoo('TSLA')\n",
    "# stock = ['TSLA']\n",
    "# # df_tesla=pdr.get_data_yahoo(symbols='TSLA')\n",
    "# # s = pdr.get_data_yahoo(symbols=stock, start=\"2017-08-13\",end=\"2017-08-14\")\n",
    "# BAC = pdr.DataReader(\"BAC\", 'yahoo')\n"
   ]
  },
  {
   "cell_type": "code",
   "execution_count": 23,
   "id": "29ff401d",
   "metadata": {},
   "outputs": [
    {
     "name": "stdout",
     "output_type": "stream",
     "text": [
      "[*********************100%***********************]  1 of 1 completed\n"
     ]
    }
   ],
   "source": [
    "import yfinance\n",
    "df_tesla = yfinance.download (tickers = \"TSLA\", start = \"2017-02-27\", \n",
    "                              end = \"2022-03-13\", interval = \"1D\", group_by = 'ticker', auto_adjust = True, treads = True)"
   ]
  },
  {
   "cell_type": "code",
   "execution_count": 24,
   "id": "02d918f0",
   "metadata": {},
   "outputs": [
    {
     "data": {
      "text/html": [
       "<div>\n",
       "<style scoped>\n",
       "    .dataframe tbody tr th:only-of-type {\n",
       "        vertical-align: middle;\n",
       "    }\n",
       "\n",
       "    .dataframe tbody tr th {\n",
       "        vertical-align: top;\n",
       "    }\n",
       "\n",
       "    .dataframe thead th {\n",
       "        text-align: right;\n",
       "    }\n",
       "</style>\n",
       "<table border=\"1\" class=\"dataframe\">\n",
       "  <thead>\n",
       "    <tr style=\"text-align: right;\">\n",
       "      <th></th>\n",
       "      <th>Open</th>\n",
       "      <th>High</th>\n",
       "      <th>Low</th>\n",
       "      <th>Close</th>\n",
       "      <th>Volume</th>\n",
       "    </tr>\n",
       "    <tr>\n",
       "      <th>Date</th>\n",
       "      <th></th>\n",
       "      <th></th>\n",
       "      <th></th>\n",
       "      <th></th>\n",
       "      <th></th>\n",
       "    </tr>\n",
       "  </thead>\n",
       "  <tbody>\n",
       "    <tr>\n",
       "      <th>2017-02-27</th>\n",
       "      <td>16.544666</td>\n",
       "      <td>16.557333</td>\n",
       "      <td>16.134001</td>\n",
       "      <td>16.415333</td>\n",
       "      <td>171912000</td>\n",
       "    </tr>\n",
       "    <tr>\n",
       "      <th>2017-02-28</th>\n",
       "      <td>16.279333</td>\n",
       "      <td>16.733334</td>\n",
       "      <td>16.260000</td>\n",
       "      <td>16.666000</td>\n",
       "      <td>91171500</td>\n",
       "    </tr>\n",
       "    <tr>\n",
       "      <th>2017-03-01</th>\n",
       "      <td>16.945333</td>\n",
       "      <td>16.990000</td>\n",
       "      <td>16.607332</td>\n",
       "      <td>16.667999</td>\n",
       "      <td>72142500</td>\n",
       "    </tr>\n",
       "    <tr>\n",
       "      <th>2017-03-02</th>\n",
       "      <td>16.647333</td>\n",
       "      <td>16.885332</td>\n",
       "      <td>16.551332</td>\n",
       "      <td>16.698668</td>\n",
       "      <td>50277000</td>\n",
       "    </tr>\n",
       "    <tr>\n",
       "      <th>2017-03-03</th>\n",
       "      <td>16.716000</td>\n",
       "      <td>16.793333</td>\n",
       "      <td>16.600000</td>\n",
       "      <td>16.771334</td>\n",
       "      <td>43791000</td>\n",
       "    </tr>\n",
       "    <tr>\n",
       "      <th>...</th>\n",
       "      <td>...</td>\n",
       "      <td>...</td>\n",
       "      <td>...</td>\n",
       "      <td>...</td>\n",
       "      <td>...</td>\n",
       "    </tr>\n",
       "    <tr>\n",
       "      <th>2022-03-07</th>\n",
       "      <td>285.433319</td>\n",
       "      <td>288.713318</td>\n",
       "      <td>268.190002</td>\n",
       "      <td>268.193329</td>\n",
       "      <td>72494100</td>\n",
       "    </tr>\n",
       "    <tr>\n",
       "      <th>2022-03-08</th>\n",
       "      <td>265.176666</td>\n",
       "      <td>283.329987</td>\n",
       "      <td>260.723328</td>\n",
       "      <td>274.799988</td>\n",
       "      <td>80399100</td>\n",
       "    </tr>\n",
       "    <tr>\n",
       "      <th>2022-03-09</th>\n",
       "      <td>279.826660</td>\n",
       "      <td>286.853333</td>\n",
       "      <td>277.336670</td>\n",
       "      <td>286.323334</td>\n",
       "      <td>59184000</td>\n",
       "    </tr>\n",
       "    <tr>\n",
       "      <th>2022-03-10</th>\n",
       "      <td>283.816681</td>\n",
       "      <td>284.816681</td>\n",
       "      <td>270.119995</td>\n",
       "      <td>279.433319</td>\n",
       "      <td>58648500</td>\n",
       "    </tr>\n",
       "    <tr>\n",
       "      <th>2022-03-11</th>\n",
       "      <td>280.066681</td>\n",
       "      <td>281.266663</td>\n",
       "      <td>264.589996</td>\n",
       "      <td>265.116669</td>\n",
       "      <td>67037100</td>\n",
       "    </tr>\n",
       "  </tbody>\n",
       "</table>\n",
       "<p>1270 rows × 5 columns</p>\n",
       "</div>"
      ],
      "text/plain": [
       "                  Open        High         Low       Close     Volume\n",
       "Date                                                                 \n",
       "2017-02-27   16.544666   16.557333   16.134001   16.415333  171912000\n",
       "2017-02-28   16.279333   16.733334   16.260000   16.666000   91171500\n",
       "2017-03-01   16.945333   16.990000   16.607332   16.667999   72142500\n",
       "2017-03-02   16.647333   16.885332   16.551332   16.698668   50277000\n",
       "2017-03-03   16.716000   16.793333   16.600000   16.771334   43791000\n",
       "...                ...         ...         ...         ...        ...\n",
       "2022-03-07  285.433319  288.713318  268.190002  268.193329   72494100\n",
       "2022-03-08  265.176666  283.329987  260.723328  274.799988   80399100\n",
       "2022-03-09  279.826660  286.853333  277.336670  286.323334   59184000\n",
       "2022-03-10  283.816681  284.816681  270.119995  279.433319   58648500\n",
       "2022-03-11  280.066681  281.266663  264.589996  265.116669   67037100\n",
       "\n",
       "[1270 rows x 5 columns]"
      ]
     },
     "execution_count": 24,
     "metadata": {},
     "output_type": "execute_result"
    }
   ],
   "source": [
    "df_tesla"
   ]
  },
  {
   "cell_type": "code",
   "execution_count": 12,
   "id": "400108e4",
   "metadata": {},
   "outputs": [
    {
     "data": {
      "text/plain": [
       "<AxesSubplot: xlabel='Date'>"
      ]
     },
     "execution_count": 12,
     "metadata": {},
     "output_type": "execute_result"
    },
    {
     "data": {
      "image/png": "[encoded data removed]",
      "text/plain": [
       "<Figure size 864x288 with 1 Axes>"
      ]
     },
     "metadata": {
      "needs_background": "light"
     },
     "output_type": "display_data"
    }
   ],
   "source": [
    "df_tesla['High'].plot(figsize=(12,4))"
   ]
  },
  {
   "cell_type": "code",
   "execution_count": 33,
   "id": "6025618b",
   "metadata": {},
   "outputs": [
    {
     "data": {
      "text/plain": [
       "<AxesSubplot: xlabel='Date'>"
      ]
     },
     "execution_count": 33,
     "metadata": {},
     "output_type": "execute_result"
    },
    {
     "data": {
      "image/png": "[encoded data removed]",
      "text/plain": [
       "<Figure size 864x288 with 1 Axes>"
      ]
     },
     "metadata": {
      "needs_background": "light"
     },
     "output_type": "display_data"
    }
   ],
   "source": [
    "df_tesla['High'].plot(xlim=['2020-01-01','2021-09-01'],ylim=[0,400], \n",
    "                figsize=(12,4), ls='--', c='red')"
   ]
  },
  {
   "cell_type": "code",
   "execution_count": 34,
   "id": "4705071d",
   "metadata": {},
   "outputs": [],
   "source": [
    "df = [1,2,3,4,5,6,7,8,9,10,11,12,13,14,15,16,17,18,19,20]\n",
    "df = pd.DataFrame(df, columns=['a'])\n"
   ]
  },
  {
   "cell_type": "code",
   "execution_count": 35,
   "id": "086fdd5d",
   "metadata": {},
   "outputs": [
    {
     "data": {
      "text/plain": [
       "<AxesSubplot: >"
      ]
     },
     "execution_count": 35,
     "metadata": {},
     "output_type": "execute_result"
    },
    {
     "data": {
      "image/png": "[encoded data removed]",
      "text/plain": [
       "<Figure size 864x432 with 1 Axes>"
      ]
     },
     "metadata": {
      "needs_background": "light"
     },
     "output_type": "display_data"
    }
   ],
   "source": [
    "df['a'].plot(figsize=(12,6))"
   ]
  },
  {
   "cell_type": "code",
   "execution_count": 41,
   "id": "406d1d40",
   "metadata": {},
   "outputs": [
    {
     "data": {
      "text/plain": [
       "<AxesSubplot: >"
      ]
     },
     "execution_count": 41,
     "metadata": {},
     "output_type": "execute_result"
    },
    {
     "data": {
      "image/png": "[encoded data removed]",
      "text/plain": [
       "<Figure size 864x432 with 1 Axes>"
      ]
     },
     "metadata": {
      "needs_background": "light"
     },
     "output_type": "display_data"
    }
   ],
   "source": [
    "df['a'].plot(xlim=[0,10],figsize=(12,6))"
   ]
  },
  {
   "cell_type": "code",
   "execution_count": 34,
   "id": "703051f4",
   "metadata": {},
   "outputs": [
    {
     "data": {
      "text/html": [
       "<div>\n",
       "<style scoped>\n",
       "    .dataframe tbody tr th:only-of-type {\n",
       "        vertical-align: middle;\n",
       "    }\n",
       "\n",
       "    .dataframe tbody tr th {\n",
       "        vertical-align: top;\n",
       "    }\n",
       "\n",
       "    .dataframe thead th {\n",
       "        text-align: right;\n",
       "    }\n",
       "</style>\n",
       "<table border=\"1\" class=\"dataframe\">\n",
       "  <thead>\n",
       "    <tr style=\"text-align: right;\">\n",
       "      <th></th>\n",
       "      <th>Open</th>\n",
       "      <th>High</th>\n",
       "      <th>Low</th>\n",
       "      <th>Close</th>\n",
       "      <th>Volume</th>\n",
       "    </tr>\n",
       "    <tr>\n",
       "      <th>Date</th>\n",
       "      <th></th>\n",
       "      <th></th>\n",
       "      <th></th>\n",
       "      <th></th>\n",
       "      <th></th>\n",
       "    </tr>\n",
       "  </thead>\n",
       "  <tbody>\n",
       "    <tr>\n",
       "      <th>2017-02-27</th>\n",
       "      <td>16.544666</td>\n",
       "      <td>16.557333</td>\n",
       "      <td>16.134001</td>\n",
       "      <td>16.415333</td>\n",
       "      <td>171912000</td>\n",
       "    </tr>\n",
       "    <tr>\n",
       "      <th>2017-02-28</th>\n",
       "      <td>16.279333</td>\n",
       "      <td>16.733334</td>\n",
       "      <td>16.260000</td>\n",
       "      <td>16.666000</td>\n",
       "      <td>91171500</td>\n",
       "    </tr>\n",
       "    <tr>\n",
       "      <th>2017-03-01</th>\n",
       "      <td>16.945333</td>\n",
       "      <td>16.990000</td>\n",
       "      <td>16.607332</td>\n",
       "      <td>16.667999</td>\n",
       "      <td>72142500</td>\n",
       "    </tr>\n",
       "    <tr>\n",
       "      <th>2017-03-02</th>\n",
       "      <td>16.647333</td>\n",
       "      <td>16.885332</td>\n",
       "      <td>16.551332</td>\n",
       "      <td>16.698668</td>\n",
       "      <td>50277000</td>\n",
       "    </tr>\n",
       "  </tbody>\n",
       "</table>\n",
       "</div>"
      ],
      "text/plain": [
       "                 Open       High        Low      Close     Volume\n",
       "Date                                                             \n",
       "2017-02-27  16.544666  16.557333  16.134001  16.415333  171912000\n",
       "2017-02-28  16.279333  16.733334  16.260000  16.666000   91171500\n",
       "2017-03-01  16.945333  16.990000  16.607332  16.667999   72142500\n",
       "2017-03-02  16.647333  16.885332  16.551332  16.698668   50277000"
      ]
     },
     "execution_count": 34,
     "metadata": {},
     "output_type": "execute_result"
    }
   ],
   "source": [
    "df_tesla.head(4)"
   ]
  },
  {
   "cell_type": "code",
   "execution_count": 45,
   "id": "c3a8007b",
   "metadata": {},
   "outputs": [],
   "source": [
    "index = df_tesla.loc['2020-01-01':'2021-09-01'].index"
   ]
  },
  {
   "cell_type": "code",
   "execution_count": 46,
   "id": "386c8bfd",
   "metadata": {},
   "outputs": [
    {
     "data": {
      "text/plain": [
       "DatetimeIndex(['2020-01-02', '2020-01-03', '2020-01-06', '2020-01-07',\n",
       "               '2020-01-08', '2020-01-09', '2020-01-10', '2020-01-13',\n",
       "               '2020-01-14', '2020-01-15',\n",
       "               ...\n",
       "               '2021-08-19', '2021-08-20', '2021-08-23', '2021-08-24',\n",
       "               '2021-08-25', '2021-08-26', '2021-08-27', '2021-08-30',\n",
       "               '2021-08-31', '2021-09-01'],\n",
       "              dtype='datetime64[ns]', name='Date', length=421, freq=None)"
      ]
     },
     "execution_count": 46,
     "metadata": {},
     "output_type": "execute_result"
    }
   ],
   "source": [
    "index"
   ]
  },
  {
   "cell_type": "code",
   "execution_count": 40,
   "id": "bfbda4cf",
   "metadata": {},
   "outputs": [],
   "source": [
    "shares_open = df_tesla.loc['2020-01-01':'2021-09-01']['Open']"
   ]
  },
  {
   "cell_type": "code",
   "execution_count": 41,
   "id": "7bd98dfe",
   "metadata": {},
   "outputs": [
    {
     "data": {
      "text/plain": [
       "Date\n",
       "2020-01-02     28.299999\n",
       "2020-01-03     29.366667\n",
       "2020-01-06     29.364668\n",
       "2020-01-07     30.760000\n",
       "2020-01-08     31.580000\n",
       "                 ...    \n",
       "2021-08-26    236.103333\n",
       "2021-08-27    235.000000\n",
       "2021-08-30    238.240005\n",
       "2021-08-31    244.333328\n",
       "2021-09-01    244.693329\n",
       "Name: Open, Length: 421, dtype: float64"
      ]
     },
     "execution_count": 41,
     "metadata": {},
     "output_type": "execute_result"
    }
   ],
   "source": [
    "shares_open"
   ]
  },
  {
   "cell_type": "code",
   "execution_count": 42,
   "id": "775cb6b6",
   "metadata": {},
   "outputs": [],
   "source": [
    "import matplotlib.pyplot as plt\n",
    "%matplotlib inline"
   ]
  },
  {
   "cell_type": "code",
   "execution_count": 50,
   "id": "14b7a679",
   "metadata": {},
   "outputs": [
    {
     "data": {
      "text/plain": [
       "[<matplotlib.lines.Line2D at 0x1826e03f4c0>]"
      ]
     },
     "execution_count": 50,
     "metadata": {},
     "output_type": "execute_result"
    },
    {
     "data": {
      "image/png": "[encoded data removed]",
      "text/plain": [
       "<Figure size 432x288 with 1 Axes>"
      ]
     },
     "metadata": {
      "needs_background": "light"
     },
     "output_type": "display_data"
    }
   ],
   "source": [
    "figure, axis = plt.subplots()\n",
    "plt.tight_layout()\n",
    "# this ftn preventing overlapping\n",
    "figure.autofmt_xdate()\n",
    "\n",
    "axis.plot(index, shares_open)"
   ]
  },
  {
   "cell_type": "markdown",
   "id": "10aa1342",
   "metadata": {},
   "source": [
    "# Datetime Index"
   ]
  },
  {
   "cell_type": "code",
   "execution_count": 54,
   "id": "33fdd538",
   "metadata": {},
   "outputs": [],
   "source": [
    "df_tesla = df_tesla.reset_index()"
   ]
  },
  {
   "cell_type": "code",
   "execution_count": 60,
   "id": "4f293cb2",
   "metadata": {},
   "outputs": [],
   "source": [
    "df_tesla.set_index('Date', inplace=True, drop=True)"
   ]
  },
  {
   "cell_type": "code",
   "execution_count": 62,
   "id": "e65a930b",
   "metadata": {},
   "outputs": [
    {
     "data": {
      "text/html": [
       "<div>\n",
       "<style scoped>\n",
       "    .dataframe tbody tr th:only-of-type {\n",
       "        vertical-align: middle;\n",
       "    }\n",
       "\n",
       "    .dataframe tbody tr th {\n",
       "        vertical-align: top;\n",
       "    }\n",
       "\n",
       "    .dataframe thead th {\n",
       "        text-align: right;\n",
       "    }\n",
       "</style>\n",
       "<table border=\"1\" class=\"dataframe\">\n",
       "  <thead>\n",
       "    <tr style=\"text-align: right;\">\n",
       "      <th></th>\n",
       "      <th>Open</th>\n",
       "      <th>High</th>\n",
       "      <th>Low</th>\n",
       "      <th>Close</th>\n",
       "      <th>Volume</th>\n",
       "    </tr>\n",
       "    <tr>\n",
       "      <th>Date</th>\n",
       "      <th></th>\n",
       "      <th></th>\n",
       "      <th></th>\n",
       "      <th></th>\n",
       "      <th></th>\n",
       "    </tr>\n",
       "  </thead>\n",
       "  <tbody>\n",
       "    <tr>\n",
       "      <th>2017-02-27</th>\n",
       "      <td>16.544666</td>\n",
       "      <td>16.557333</td>\n",
       "      <td>16.134001</td>\n",
       "      <td>16.415333</td>\n",
       "      <td>171912000</td>\n",
       "    </tr>\n",
       "    <tr>\n",
       "      <th>2017-02-28</th>\n",
       "      <td>16.279333</td>\n",
       "      <td>16.733334</td>\n",
       "      <td>16.260000</td>\n",
       "      <td>16.666000</td>\n",
       "      <td>91171500</td>\n",
       "    </tr>\n",
       "    <tr>\n",
       "      <th>2017-03-01</th>\n",
       "      <td>16.945333</td>\n",
       "      <td>16.990000</td>\n",
       "      <td>16.607332</td>\n",
       "      <td>16.667999</td>\n",
       "      <td>72142500</td>\n",
       "    </tr>\n",
       "    <tr>\n",
       "      <th>2017-03-02</th>\n",
       "      <td>16.647333</td>\n",
       "      <td>16.885332</td>\n",
       "      <td>16.551332</td>\n",
       "      <td>16.698668</td>\n",
       "      <td>50277000</td>\n",
       "    </tr>\n",
       "    <tr>\n",
       "      <th>2017-03-03</th>\n",
       "      <td>16.716000</td>\n",
       "      <td>16.793333</td>\n",
       "      <td>16.600000</td>\n",
       "      <td>16.771334</td>\n",
       "      <td>43791000</td>\n",
       "    </tr>\n",
       "  </tbody>\n",
       "</table>\n",
       "</div>"
      ],
      "text/plain": [
       "                 Open       High        Low      Close     Volume\n",
       "Date                                                             \n",
       "2017-02-27  16.544666  16.557333  16.134001  16.415333  171912000\n",
       "2017-02-28  16.279333  16.733334  16.260000  16.666000   91171500\n",
       "2017-03-01  16.945333  16.990000  16.607332  16.667999   72142500\n",
       "2017-03-02  16.647333  16.885332  16.551332  16.698668   50277000\n",
       "2017-03-03  16.716000  16.793333  16.600000  16.771334   43791000"
      ]
     },
     "execution_count": 62,
     "metadata": {},
     "output_type": "execute_result"
    }
   ],
   "source": [
    "df_tesla.head()"
   ]
  },
  {
   "cell_type": "code",
   "execution_count": 5,
   "id": "b02220b8",
   "metadata": {},
   "outputs": [],
   "source": [
    "from datetime import datetime"
   ]
  },
  {
   "cell_type": "code",
   "execution_count": 6,
   "id": "d354d8f9",
   "metadata": {},
   "outputs": [
    {
     "data": {
      "text/plain": [
       "datetime.datetime(2021, 12, 18, 0, 0)"
      ]
     },
     "execution_count": 6,
     "metadata": {},
     "output_type": "execute_result"
    }
   ],
   "source": [
    "datetime(2021,12,18)"
   ]
  },
  {
   "cell_type": "code",
   "execution_count": 7,
   "id": "33788bba",
   "metadata": {},
   "outputs": [
    {
     "data": {
      "text/plain": [
       "datetime.datetime(2022, 12, 18, 14, 34, 30, 630276)"
      ]
     },
     "execution_count": 7,
     "metadata": {},
     "output_type": "execute_result"
    }
   ],
   "source": [
    "datetime.now()"
   ]
  },
  {
   "cell_type": "code",
   "execution_count": 8,
   "id": "19c1bf31",
   "metadata": {},
   "outputs": [],
   "source": [
    "def add_num(num1, num2):\n",
    "    start_time =  datetime.now()\n",
    "    for i in range(100000):\n",
    "        for i in range(10):\n",
    "\n",
    "            add = num1+num2;\n",
    "    end_time = datetime.now()\n",
    "    \n",
    "    total_time = end_time - start_time\n",
    "    \n",
    "    print(total_time)\n"
   ]
  },
  {
   "cell_type": "code",
   "execution_count": 10,
   "id": "ff588db0",
   "metadata": {},
   "outputs": [
    {
     "name": "stdout",
     "output_type": "stream",
     "text": [
      "0:00:00.339994\n"
     ]
    }
   ],
   "source": [
    "add_num(1000000000000,211111111111111111111111111111)"
   ]
  },
  {
   "cell_type": "code",
   "execution_count": 13,
   "id": "ad7995b6",
   "metadata": {},
   "outputs": [],
   "source": [
    "date = datetime(2022,12,18)"
   ]
  },
  {
   "cell_type": "code",
   "execution_count": 14,
   "id": "7355a8a4",
   "metadata": {},
   "outputs": [
    {
     "data": {
      "text/plain": [
       "datetime.datetime(2022, 12, 18, 0, 0)"
      ]
     },
     "execution_count": 14,
     "metadata": {},
     "output_type": "execute_result"
    }
   ],
   "source": [
    "date"
   ]
  },
  {
   "cell_type": "code",
   "execution_count": 16,
   "id": "f360ac24",
   "metadata": {},
   "outputs": [
    {
     "data": {
      "text/plain": [
       "18"
      ]
     },
     "execution_count": 16,
     "metadata": {},
     "output_type": "execute_result"
    }
   ],
   "source": [
    "date.day"
   ]
  },
  {
   "cell_type": "code",
   "execution_count": 18,
   "id": "85ad63df",
   "metadata": {},
   "outputs": [
    {
     "data": {
      "text/plain": [
       "6"
      ]
     },
     "execution_count": 18,
     "metadata": {},
     "output_type": "execute_result"
    }
   ],
   "source": [
    "date.weekday()"
   ]
  },
  {
   "cell_type": "code",
   "execution_count": 19,
   "id": "e1a3ff2d",
   "metadata": {},
   "outputs": [
    {
     "data": {
      "text/plain": [
       "2022"
      ]
     },
     "execution_count": 19,
     "metadata": {},
     "output_type": "execute_result"
    }
   ],
   "source": [
    "date.year"
   ]
  },
  {
   "cell_type": "code",
   "execution_count": 20,
   "id": "50e2f4f4",
   "metadata": {},
   "outputs": [
    {
     "data": {
      "text/plain": [
       "12"
      ]
     },
     "execution_count": 20,
     "metadata": {},
     "output_type": "execute_result"
    }
   ],
   "source": [
    "date.month"
   ]
  },
  {
   "cell_type": "markdown",
   "id": "95ab65c1",
   "metadata": {},
   "source": [
    "# Time Resampling"
   ]
  },
  {
   "cell_type": "code",
   "execution_count": 26,
   "id": "e1161f7e",
   "metadata": {},
   "outputs": [
    {
     "data": {
      "text/html": [
       "<div>\n",
       "<style scoped>\n",
       "    .dataframe tbody tr th:only-of-type {\n",
       "        vertical-align: middle;\n",
       "    }\n",
       "\n",
       "    .dataframe tbody tr th {\n",
       "        vertical-align: top;\n",
       "    }\n",
       "\n",
       "    .dataframe thead th {\n",
       "        text-align: right;\n",
       "    }\n",
       "</style>\n",
       "<table border=\"1\" class=\"dataframe\">\n",
       "  <thead>\n",
       "    <tr style=\"text-align: right;\">\n",
       "      <th></th>\n",
       "      <th>Open</th>\n",
       "      <th>High</th>\n",
       "      <th>Low</th>\n",
       "      <th>Close</th>\n",
       "      <th>Volume</th>\n",
       "    </tr>\n",
       "    <tr>\n",
       "      <th>Date</th>\n",
       "      <th></th>\n",
       "      <th></th>\n",
       "      <th></th>\n",
       "      <th></th>\n",
       "      <th></th>\n",
       "    </tr>\n",
       "  </thead>\n",
       "  <tbody>\n",
       "    <tr>\n",
       "      <th>2017-02-27</th>\n",
       "      <td>16.544666</td>\n",
       "      <td>16.557333</td>\n",
       "      <td>16.134001</td>\n",
       "      <td>16.415333</td>\n",
       "      <td>171912000</td>\n",
       "    </tr>\n",
       "    <tr>\n",
       "      <th>2017-02-28</th>\n",
       "      <td>16.279333</td>\n",
       "      <td>16.733334</td>\n",
       "      <td>16.260000</td>\n",
       "      <td>16.666000</td>\n",
       "      <td>91171500</td>\n",
       "    </tr>\n",
       "    <tr>\n",
       "      <th>2017-03-01</th>\n",
       "      <td>16.945333</td>\n",
       "      <td>16.990000</td>\n",
       "      <td>16.607332</td>\n",
       "      <td>16.667999</td>\n",
       "      <td>72142500</td>\n",
       "    </tr>\n",
       "    <tr>\n",
       "      <th>2017-03-02</th>\n",
       "      <td>16.647333</td>\n",
       "      <td>16.885332</td>\n",
       "      <td>16.551332</td>\n",
       "      <td>16.698668</td>\n",
       "      <td>50277000</td>\n",
       "    </tr>\n",
       "    <tr>\n",
       "      <th>2017-03-03</th>\n",
       "      <td>16.716000</td>\n",
       "      <td>16.793333</td>\n",
       "      <td>16.600000</td>\n",
       "      <td>16.771334</td>\n",
       "      <td>43791000</td>\n",
       "    </tr>\n",
       "  </tbody>\n",
       "</table>\n",
       "</div>"
      ],
      "text/plain": [
       "                 Open       High        Low      Close     Volume\n",
       "Date                                                             \n",
       "2017-02-27  16.544666  16.557333  16.134001  16.415333  171912000\n",
       "2017-02-28  16.279333  16.733334  16.260000  16.666000   91171500\n",
       "2017-03-01  16.945333  16.990000  16.607332  16.667999   72142500\n",
       "2017-03-02  16.647333  16.885332  16.551332  16.698668   50277000\n",
       "2017-03-03  16.716000  16.793333  16.600000  16.771334   43791000"
      ]
     },
     "execution_count": 26,
     "metadata": {},
     "output_type": "execute_result"
    }
   ],
   "source": [
    "df_tesla.head()"
   ]
  },
  {
   "cell_type": "code",
   "execution_count": 40,
   "id": "902e3990",
   "metadata": {
    "scrolled": true
   },
   "outputs": [
    {
     "data": {
      "text/plain": [
       "<AxesSubplot: xlabel='Date'>"
      ]
     },
     "execution_count": 40,
     "metadata": {},
     "output_type": "execute_result"
    },
    {
     "data": {
      "image/png": "[encoded data removed]",
      "text/plain": [
       "<Figure size 432x288 with 1 Axes>"
      ]
     },
     "metadata": {
      "needs_background": "light"
     },
     "output_type": "display_data"
    }
   ],
   "source": [
    "# A means year and frequency\n",
    "df_tesla.resample(rule='A').max()['Open'].plot()"
   ]
  },
  {
   "cell_type": "code",
   "execution_count": 43,
   "id": "f9b0bd58",
   "metadata": {},
   "outputs": [
    {
     "data": {
      "text/plain": [
       "<AxesSubplot: xlabel='Date'>"
      ]
     },
     "execution_count": 43,
     "metadata": {},
     "output_type": "execute_result"
    },
    {
     "data": {
      "image/png": "[encoded data removed]",
      "text/plain": [
       "<Figure size 432x288 with 1 Axes>"
      ]
     },
     "metadata": {
      "needs_background": "light"
     },
     "output_type": "display_data"
    }
   ],
   "source": [
    "# QS means quater frequency\n",
    "df_tesla.resample(rule='QS').max()['High'].plot()"
   ]
  },
  {
   "cell_type": "code",
   "execution_count": 45,
   "id": "4f00bb41",
   "metadata": {},
   "outputs": [
    {
     "data": {
      "text/html": [
       "<div>\n",
       "<style scoped>\n",
       "    .dataframe tbody tr th:only-of-type {\n",
       "        vertical-align: middle;\n",
       "    }\n",
       "\n",
       "    .dataframe tbody tr th {\n",
       "        vertical-align: top;\n",
       "    }\n",
       "\n",
       "    .dataframe thead th {\n",
       "        text-align: right;\n",
       "    }\n",
       "</style>\n",
       "<table border=\"1\" class=\"dataframe\">\n",
       "  <thead>\n",
       "    <tr style=\"text-align: right;\">\n",
       "      <th></th>\n",
       "      <th>Open</th>\n",
       "      <th>High</th>\n",
       "      <th>Low</th>\n",
       "      <th>Close</th>\n",
       "      <th>Volume</th>\n",
       "    </tr>\n",
       "    <tr>\n",
       "      <th>Date</th>\n",
       "      <th></th>\n",
       "      <th></th>\n",
       "      <th></th>\n",
       "      <th></th>\n",
       "      <th></th>\n",
       "    </tr>\n",
       "  </thead>\n",
       "  <tbody>\n",
       "    <tr>\n",
       "      <th>2017-12-29</th>\n",
       "      <td>25.779333</td>\n",
       "      <td>25.974001</td>\n",
       "      <td>25.290001</td>\n",
       "      <td>25.666668</td>\n",
       "      <td>296871000</td>\n",
       "    </tr>\n",
       "    <tr>\n",
       "      <th>2018-12-31</th>\n",
       "      <td>25.000000</td>\n",
       "      <td>25.830667</td>\n",
       "      <td>24.474667</td>\n",
       "      <td>25.304667</td>\n",
       "      <td>504745500</td>\n",
       "    </tr>\n",
       "    <tr>\n",
       "      <th>2019-12-31</th>\n",
       "      <td>29.000000</td>\n",
       "      <td>29.020666</td>\n",
       "      <td>28.423332</td>\n",
       "      <td>28.729334</td>\n",
       "      <td>450091500</td>\n",
       "    </tr>\n",
       "    <tr>\n",
       "      <th>2020-12-31</th>\n",
       "      <td>233.330002</td>\n",
       "      <td>239.573334</td>\n",
       "      <td>230.373337</td>\n",
       "      <td>235.223328</td>\n",
       "      <td>914082000</td>\n",
       "    </tr>\n",
       "    <tr>\n",
       "      <th>2021-12-31</th>\n",
       "      <td>411.470001</td>\n",
       "      <td>414.496674</td>\n",
       "      <td>405.666656</td>\n",
       "      <td>409.970001</td>\n",
       "      <td>268189500</td>\n",
       "    </tr>\n",
       "    <tr>\n",
       "      <th>2022-12-30</th>\n",
       "      <td>396.516663</td>\n",
       "      <td>402.666656</td>\n",
       "      <td>378.679993</td>\n",
       "      <td>399.926666</td>\n",
       "      <td>151565700</td>\n",
       "    </tr>\n",
       "  </tbody>\n",
       "</table>\n",
       "</div>"
      ],
      "text/plain": [
       "                  Open        High         Low       Close     Volume\n",
       "Date                                                                 \n",
       "2017-12-29   25.779333   25.974001   25.290001   25.666668  296871000\n",
       "2018-12-31   25.000000   25.830667   24.474667   25.304667  504745500\n",
       "2019-12-31   29.000000   29.020666   28.423332   28.729334  450091500\n",
       "2020-12-31  233.330002  239.573334  230.373337  235.223328  914082000\n",
       "2021-12-31  411.470001  414.496674  405.666656  409.970001  268189500\n",
       "2022-12-30  396.516663  402.666656  378.679993  399.926666  151565700"
      ]
     },
     "execution_count": 45,
     "metadata": {},
     "output_type": "execute_result"
    }
   ],
   "source": [
    "# BA Business End or yearn  frequency\n",
    "df_tesla.resample(rule='BA').max()\n",
    "# ['High'].plot()"
   ]
  },
  {
   "cell_type": "code",
   "execution_count": 46,
   "id": "0f778910",
   "metadata": {},
   "outputs": [
    {
     "data": {
      "text/plain": [
       "<AxesSubplot: xlabel='Date'>"
      ]
     },
     "execution_count": 46,
     "metadata": {},
     "output_type": "execute_result"
    },
    {
     "data": {
      "image/png": "[encoded data removed]",
      "text/plain": [
       "<Figure size 432x288 with 1 Axes>"
      ]
     },
     "metadata": {
      "needs_background": "light"
     },
     "output_type": "display_data"
    }
   ],
   "source": [
    "# BA Business End or yearn  frequency\n",
    "df_tesla.resample(rule='BA').max()['High'].plot()"
   ]
  },
  {
   "cell_type": "code",
   "execution_count": 47,
   "id": "ebdeaca8",
   "metadata": {},
   "outputs": [
    {
     "data": {
      "text/html": [
       "<div>\n",
       "<style scoped>\n",
       "    .dataframe tbody tr th:only-of-type {\n",
       "        vertical-align: middle;\n",
       "    }\n",
       "\n",
       "    .dataframe tbody tr th {\n",
       "        vertical-align: top;\n",
       "    }\n",
       "\n",
       "    .dataframe thead th {\n",
       "        text-align: right;\n",
       "    }\n",
       "</style>\n",
       "<table border=\"1\" class=\"dataframe\">\n",
       "  <thead>\n",
       "    <tr style=\"text-align: right;\">\n",
       "      <th></th>\n",
       "      <th>Open</th>\n",
       "      <th>High</th>\n",
       "      <th>Low</th>\n",
       "      <th>Close</th>\n",
       "      <th>Volume</th>\n",
       "    </tr>\n",
       "    <tr>\n",
       "      <th>Date</th>\n",
       "      <th></th>\n",
       "      <th></th>\n",
       "      <th></th>\n",
       "      <th></th>\n",
       "      <th></th>\n",
       "    </tr>\n",
       "  </thead>\n",
       "  <tbody>\n",
       "    <tr>\n",
       "      <th>2017-01-02</th>\n",
       "      <td>18.582001</td>\n",
       "      <td>18.799999</td>\n",
       "      <td>18.480667</td>\n",
       "      <td>18.553333</td>\n",
       "      <td>171912000</td>\n",
       "    </tr>\n",
       "    <tr>\n",
       "      <th>2017-04-03</th>\n",
       "      <td>25.779333</td>\n",
       "      <td>25.799334</td>\n",
       "      <td>25.290001</td>\n",
       "      <td>25.563334</td>\n",
       "      <td>258921000</td>\n",
       "    </tr>\n",
       "    <tr>\n",
       "      <th>2017-07-03</th>\n",
       "      <td>25.350000</td>\n",
       "      <td>25.974001</td>\n",
       "      <td>25.178667</td>\n",
       "      <td>25.666668</td>\n",
       "      <td>289867500</td>\n",
       "    </tr>\n",
       "    <tr>\n",
       "      <th>2017-10-02</th>\n",
       "      <td>23.798668</td>\n",
       "      <td>24.200001</td>\n",
       "      <td>23.608667</td>\n",
       "      <td>23.976667</td>\n",
       "      <td>296871000</td>\n",
       "    </tr>\n",
       "    <tr>\n",
       "      <th>2018-01-01</th>\n",
       "      <td>24.000000</td>\n",
       "      <td>24.033333</td>\n",
       "      <td>23.490667</td>\n",
       "      <td>23.827999</td>\n",
       "      <td>315021000</td>\n",
       "    </tr>\n",
       "    <tr>\n",
       "      <th>2018-04-02</th>\n",
       "      <td>24.344000</td>\n",
       "      <td>24.915333</td>\n",
       "      <td>23.633333</td>\n",
       "      <td>24.722000</td>\n",
       "      <td>335211000</td>\n",
       "    </tr>\n",
       "    <tr>\n",
       "      <th>2018-07-02</th>\n",
       "      <td>24.606001</td>\n",
       "      <td>25.830667</td>\n",
       "      <td>24.474667</td>\n",
       "      <td>25.304667</td>\n",
       "      <td>504745500</td>\n",
       "    </tr>\n",
       "    <tr>\n",
       "      <th>2018-10-01</th>\n",
       "      <td>25.000000</td>\n",
       "      <td>25.299334</td>\n",
       "      <td>24.450001</td>\n",
       "      <td>25.119333</td>\n",
       "      <td>411382500</td>\n",
       "    </tr>\n",
       "    <tr>\n",
       "      <th>2019-01-01</th>\n",
       "      <td>23.080667</td>\n",
       "      <td>23.466667</td>\n",
       "      <td>22.943333</td>\n",
       "      <td>23.153999</td>\n",
       "      <td>362262000</td>\n",
       "    </tr>\n",
       "    <tr>\n",
       "      <th>2019-04-01</th>\n",
       "      <td>19.219999</td>\n",
       "      <td>19.744667</td>\n",
       "      <td>19.144667</td>\n",
       "      <td>19.454000</td>\n",
       "      <td>398206500</td>\n",
       "    </tr>\n",
       "    <tr>\n",
       "      <th>2019-07-01</th>\n",
       "      <td>17.278000</td>\n",
       "      <td>17.738001</td>\n",
       "      <td>17.210667</td>\n",
       "      <td>17.658667</td>\n",
       "      <td>336274500</td>\n",
       "    </tr>\n",
       "    <tr>\n",
       "      <th>2019-10-01</th>\n",
       "      <td>29.000000</td>\n",
       "      <td>29.020666</td>\n",
       "      <td>28.423332</td>\n",
       "      <td>28.729334</td>\n",
       "      <td>450091500</td>\n",
       "    </tr>\n",
       "    <tr>\n",
       "      <th>2020-01-01</th>\n",
       "      <td>61.566666</td>\n",
       "      <td>64.599335</td>\n",
       "      <td>60.068001</td>\n",
       "      <td>61.161331</td>\n",
       "      <td>914082000</td>\n",
       "    </tr>\n",
       "    <tr>\n",
       "      <th>2020-04-01</th>\n",
       "      <td>67.518669</td>\n",
       "      <td>72.512665</td>\n",
       "      <td>66.915337</td>\n",
       "      <td>71.987335</td>\n",
       "      <td>487977000</td>\n",
       "    </tr>\n",
       "    <tr>\n",
       "      <th>2020-07-01</th>\n",
       "      <td>167.380005</td>\n",
       "      <td>167.496674</td>\n",
       "      <td>156.836670</td>\n",
       "      <td>166.106674</td>\n",
       "      <td>584781000</td>\n",
       "    </tr>\n",
       "    <tr>\n",
       "      <th>2020-10-01</th>\n",
       "      <td>233.330002</td>\n",
       "      <td>239.573334</td>\n",
       "      <td>230.373337</td>\n",
       "      <td>235.223328</td>\n",
       "      <td>666378600</td>\n",
       "    </tr>\n",
       "    <tr>\n",
       "      <th>2021-01-01</th>\n",
       "      <td>297.126678</td>\n",
       "      <td>300.133331</td>\n",
       "      <td>290.533325</td>\n",
       "      <td>294.363342</td>\n",
       "      <td>268189500</td>\n",
       "    </tr>\n",
       "    <tr>\n",
       "      <th>2021-04-01</th>\n",
       "      <td>256.899994</td>\n",
       "      <td>260.263336</td>\n",
       "      <td>244.203339</td>\n",
       "      <td>254.106674</td>\n",
       "      <td>147052200</td>\n",
       "    </tr>\n",
       "    <tr>\n",
       "      <th>2021-07-01</th>\n",
       "      <td>262.399994</td>\n",
       "      <td>266.333344</td>\n",
       "      <td>258.333344</td>\n",
       "      <td>263.786682</td>\n",
       "      <td>100847400</td>\n",
       "    </tr>\n",
       "    <tr>\n",
       "      <th>2021-10-01</th>\n",
       "      <td>411.470001</td>\n",
       "      <td>414.496674</td>\n",
       "      <td>405.666656</td>\n",
       "      <td>409.970001</td>\n",
       "      <td>188556300</td>\n",
       "    </tr>\n",
       "    <tr>\n",
       "      <th>2022-01-03</th>\n",
       "      <td>396.516663</td>\n",
       "      <td>402.666656</td>\n",
       "      <td>378.679993</td>\n",
       "      <td>399.926666</td>\n",
       "      <td>151565700</td>\n",
       "    </tr>\n",
       "  </tbody>\n",
       "</table>\n",
       "</div>"
      ],
      "text/plain": [
       "                  Open        High         Low       Close     Volume\n",
       "Date                                                                 \n",
       "2017-01-02   18.582001   18.799999   18.480667   18.553333  171912000\n",
       "2017-04-03   25.779333   25.799334   25.290001   25.563334  258921000\n",
       "2017-07-03   25.350000   25.974001   25.178667   25.666668  289867500\n",
       "2017-10-02   23.798668   24.200001   23.608667   23.976667  296871000\n",
       "2018-01-01   24.000000   24.033333   23.490667   23.827999  315021000\n",
       "2018-04-02   24.344000   24.915333   23.633333   24.722000  335211000\n",
       "2018-07-02   24.606001   25.830667   24.474667   25.304667  504745500\n",
       "2018-10-01   25.000000   25.299334   24.450001   25.119333  411382500\n",
       "2019-01-01   23.080667   23.466667   22.943333   23.153999  362262000\n",
       "2019-04-01   19.219999   19.744667   19.144667   19.454000  398206500\n",
       "2019-07-01   17.278000   17.738001   17.210667   17.658667  336274500\n",
       "2019-10-01   29.000000   29.020666   28.423332   28.729334  450091500\n",
       "2020-01-01   61.566666   64.599335   60.068001   61.161331  914082000\n",
       "2020-04-01   67.518669   72.512665   66.915337   71.987335  487977000\n",
       "2020-07-01  167.380005  167.496674  156.836670  166.106674  584781000\n",
       "2020-10-01  233.330002  239.573334  230.373337  235.223328  666378600\n",
       "2021-01-01  297.126678  300.133331  290.533325  294.363342  268189500\n",
       "2021-04-01  256.899994  260.263336  244.203339  254.106674  147052200\n",
       "2021-07-01  262.399994  266.333344  258.333344  263.786682  100847400\n",
       "2021-10-01  411.470001  414.496674  405.666656  409.970001  188556300\n",
       "2022-01-03  396.516663  402.666656  378.679993  399.926666  151565700"
      ]
     },
     "execution_count": 47,
     "metadata": {},
     "output_type": "execute_result"
    }
   ],
   "source": [
    "# BQS Business Quater  frequency\n",
    "df_tesla.resample(rule='BQS').max()\n",
    "# ['High'].plot()"
   ]
  },
  {
   "cell_type": "code",
   "execution_count": 51,
   "id": "3ea46e6a",
   "metadata": {},
   "outputs": [
    {
     "data": {
      "text/plain": [
       "<AxesSubplot: xlabel='Date'>"
      ]
     },
     "execution_count": 51,
     "metadata": {},
     "output_type": "execute_result"
    },
    {
     "data": {
      "image/png": "[encoded data removed]",
      "text/plain": [
       "<Figure size 864x432 with 1 Axes>"
      ]
     },
     "metadata": {
      "needs_background": "light"
     },
     "output_type": "display_data"
    }
   ],
   "source": [
    "# BQS Business Quater frequency\n",
    "df_tesla.resample(rule='BQS').mean()['High'].plot(\n",
    "    kind='bar', figsize=(12,6))"
   ]
  },
  {
   "cell_type": "code",
   "execution_count": 61,
   "id": "1ae4494e",
   "metadata": {},
   "outputs": [],
   "source": [
    "df_tesla['rolling_open'] = df_tesla['Open'].rolling(30).mean()"
   ]
  },
  {
   "cell_type": "code",
   "execution_count": 62,
   "id": "181fa8cd",
   "metadata": {},
   "outputs": [
    {
     "data": {
      "text/html": [
       "<div>\n",
       "<style scoped>\n",
       "    .dataframe tbody tr th:only-of-type {\n",
       "        vertical-align: middle;\n",
       "    }\n",
       "\n",
       "    .dataframe tbody tr th {\n",
       "        vertical-align: top;\n",
       "    }\n",
       "\n",
       "    .dataframe thead th {\n",
       "        text-align: right;\n",
       "    }\n",
       "</style>\n",
       "<table border=\"1\" class=\"dataframe\">\n",
       "  <thead>\n",
       "    <tr style=\"text-align: right;\">\n",
       "      <th></th>\n",
       "      <th>Open</th>\n",
       "      <th>High</th>\n",
       "      <th>Low</th>\n",
       "      <th>Close</th>\n",
       "      <th>Volume</th>\n",
       "      <th>rolling_open</th>\n",
       "    </tr>\n",
       "    <tr>\n",
       "      <th>Date</th>\n",
       "      <th></th>\n",
       "      <th></th>\n",
       "      <th></th>\n",
       "      <th></th>\n",
       "      <th></th>\n",
       "      <th></th>\n",
       "    </tr>\n",
       "  </thead>\n",
       "  <tbody>\n",
       "    <tr>\n",
       "      <th>2017-02-27</th>\n",
       "      <td>16.544666</td>\n",
       "      <td>16.557333</td>\n",
       "      <td>16.134001</td>\n",
       "      <td>16.415333</td>\n",
       "      <td>171912000</td>\n",
       "      <td>NaN</td>\n",
       "    </tr>\n",
       "    <tr>\n",
       "      <th>2017-02-28</th>\n",
       "      <td>16.279333</td>\n",
       "      <td>16.733334</td>\n",
       "      <td>16.260000</td>\n",
       "      <td>16.666000</td>\n",
       "      <td>91171500</td>\n",
       "      <td>NaN</td>\n",
       "    </tr>\n",
       "    <tr>\n",
       "      <th>2017-03-01</th>\n",
       "      <td>16.945333</td>\n",
       "      <td>16.990000</td>\n",
       "      <td>16.607332</td>\n",
       "      <td>16.667999</td>\n",
       "      <td>72142500</td>\n",
       "      <td>NaN</td>\n",
       "    </tr>\n",
       "    <tr>\n",
       "      <th>2017-03-02</th>\n",
       "      <td>16.647333</td>\n",
       "      <td>16.885332</td>\n",
       "      <td>16.551332</td>\n",
       "      <td>16.698668</td>\n",
       "      <td>50277000</td>\n",
       "      <td>NaN</td>\n",
       "    </tr>\n",
       "    <tr>\n",
       "      <th>2017-03-03</th>\n",
       "      <td>16.716000</td>\n",
       "      <td>16.793333</td>\n",
       "      <td>16.600000</td>\n",
       "      <td>16.771334</td>\n",
       "      <td>43791000</td>\n",
       "      <td>NaN</td>\n",
       "    </tr>\n",
       "    <tr>\n",
       "      <th>2017-03-06</th>\n",
       "      <td>16.527332</td>\n",
       "      <td>16.780001</td>\n",
       "      <td>16.500668</td>\n",
       "      <td>16.747334</td>\n",
       "      <td>50332500</td>\n",
       "      <td>NaN</td>\n",
       "    </tr>\n",
       "    <tr>\n",
       "      <th>2017-03-07</th>\n",
       "      <td>16.794666</td>\n",
       "      <td>16.926001</td>\n",
       "      <td>16.554667</td>\n",
       "      <td>16.572666</td>\n",
       "      <td>51892500</td>\n",
       "      <td>NaN</td>\n",
       "    </tr>\n",
       "    <tr>\n",
       "      <th>2017-03-08</th>\n",
       "      <td>16.466667</td>\n",
       "      <td>16.671333</td>\n",
       "      <td>16.354668</td>\n",
       "      <td>16.458000</td>\n",
       "      <td>55878000</td>\n",
       "      <td>NaN</td>\n",
       "    </tr>\n",
       "    <tr>\n",
       "      <th>2017-03-09</th>\n",
       "      <td>16.508667</td>\n",
       "      <td>16.577333</td>\n",
       "      <td>16.200001</td>\n",
       "      <td>16.326668</td>\n",
       "      <td>58189500</td>\n",
       "      <td>NaN</td>\n",
       "    </tr>\n",
       "    <tr>\n",
       "      <th>2017-03-10</th>\n",
       "      <td>16.414000</td>\n",
       "      <td>16.433332</td>\n",
       "      <td>16.200001</td>\n",
       "      <td>16.246000</td>\n",
       "      <td>45994500</td>\n",
       "      <td>NaN</td>\n",
       "    </tr>\n",
       "    <tr>\n",
       "      <th>2017-03-13</th>\n",
       "      <td>16.321333</td>\n",
       "      <td>16.456667</td>\n",
       "      <td>16.185333</td>\n",
       "      <td>16.411333</td>\n",
       "      <td>45339000</td>\n",
       "      <td>NaN</td>\n",
       "    </tr>\n",
       "  </tbody>\n",
       "</table>\n",
       "</div>"
      ],
      "text/plain": [
       "                 Open       High        Low      Close     Volume  \\\n",
       "Date                                                                \n",
       "2017-02-27  16.544666  16.557333  16.134001  16.415333  171912000   \n",
       "2017-02-28  16.279333  16.733334  16.260000  16.666000   91171500   \n",
       "2017-03-01  16.945333  16.990000  16.607332  16.667999   72142500   \n",
       "2017-03-02  16.647333  16.885332  16.551332  16.698668   50277000   \n",
       "2017-03-03  16.716000  16.793333  16.600000  16.771334   43791000   \n",
       "2017-03-06  16.527332  16.780001  16.500668  16.747334   50332500   \n",
       "2017-03-07  16.794666  16.926001  16.554667  16.572666   51892500   \n",
       "2017-03-08  16.466667  16.671333  16.354668  16.458000   55878000   \n",
       "2017-03-09  16.508667  16.577333  16.200001  16.326668   58189500   \n",
       "2017-03-10  16.414000  16.433332  16.200001  16.246000   45994500   \n",
       "2017-03-13  16.321333  16.456667  16.185333  16.411333   45339000   \n",
       "\n",
       "            rolling_open  \n",
       "Date                      \n",
       "2017-02-27           NaN  \n",
       "2017-02-28           NaN  \n",
       "2017-03-01           NaN  \n",
       "2017-03-02           NaN  \n",
       "2017-03-03           NaN  \n",
       "2017-03-06           NaN  \n",
       "2017-03-07           NaN  \n",
       "2017-03-08           NaN  \n",
       "2017-03-09           NaN  \n",
       "2017-03-10           NaN  \n",
       "2017-03-13           NaN  "
      ]
     },
     "execution_count": 62,
     "metadata": {},
     "output_type": "execute_result"
    }
   ],
   "source": [
    "df_tesla.head(11)"
   ]
  },
  {
   "cell_type": "code",
   "execution_count": 63,
   "id": "f9717699",
   "metadata": {},
   "outputs": [
    {
     "data": {
      "text/plain": [
       "<AxesSubplot: xlabel='Date'>"
      ]
     },
     "execution_count": 63,
     "metadata": {},
     "output_type": "execute_result"
    },
    {
     "data": {
      "image/png": "[encoded data removed]",
      "text/plain": [
       "<Figure size 864x360 with 1 Axes>"
      ]
     },
     "metadata": {
      "needs_background": "light"
     },
     "output_type": "display_data"
    }
   ],
   "source": [
    "df_tesla[['Open','rolling_open']].plot(figsize=(12,5))"
   ]
  },
  {
   "cell_type": "code",
   "execution_count": null,
   "id": "56223ce4",
   "metadata": {},
   "outputs": [],
   "source": []
  },
  {
   "cell_type": "code",
   "execution_count": 37,
   "id": "aa3e8ea0",
   "metadata": {},
   "outputs": [
    {
     "data": {
      "text/html": [
       "<div>\n",
       "<style scoped>\n",
       "    .dataframe tbody tr th:only-of-type {\n",
       "        vertical-align: middle;\n",
       "    }\n",
       "\n",
       "    .dataframe tbody tr th {\n",
       "        vertical-align: top;\n",
       "    }\n",
       "\n",
       "    .dataframe thead th {\n",
       "        text-align: right;\n",
       "    }\n",
       "</style>\n",
       "<table border=\"1\" class=\"dataframe\">\n",
       "  <thead>\n",
       "    <tr style=\"text-align: right;\">\n",
       "      <th></th>\n",
       "      <th>Open</th>\n",
       "      <th>High</th>\n",
       "      <th>Low</th>\n",
       "      <th>Close</th>\n",
       "      <th>Volume</th>\n",
       "    </tr>\n",
       "    <tr>\n",
       "      <th>Date</th>\n",
       "      <th></th>\n",
       "      <th></th>\n",
       "      <th></th>\n",
       "      <th></th>\n",
       "      <th></th>\n",
       "    </tr>\n",
       "  </thead>\n",
       "  <tbody>\n",
       "    <tr>\n",
       "      <th>2017-02-28</th>\n",
       "      <td>16.279333</td>\n",
       "      <td>16.557333</td>\n",
       "      <td>16.134001</td>\n",
       "      <td>16.415333</td>\n",
       "      <td>91171500</td>\n",
       "    </tr>\n",
       "    <tr>\n",
       "      <th>2017-03-31</th>\n",
       "      <td>16.321333</td>\n",
       "      <td>16.433332</td>\n",
       "      <td>16.185333</td>\n",
       "      <td>16.246000</td>\n",
       "      <td>43791000</td>\n",
       "    </tr>\n",
       "    <tr>\n",
       "      <th>2017-04-30</th>\n",
       "      <td>19.126667</td>\n",
       "      <td>19.933332</td>\n",
       "      <td>18.972000</td>\n",
       "      <td>19.666668</td>\n",
       "      <td>45535500</td>\n",
       "    </tr>\n",
       "    <tr>\n",
       "      <th>2017-05-31</th>\n",
       "      <td>19.866667</td>\n",
       "      <td>20.518000</td>\n",
       "      <td>19.384001</td>\n",
       "      <td>19.697332</td>\n",
       "      <td>61824000</td>\n",
       "    </tr>\n",
       "    <tr>\n",
       "      <th>2017-06-30</th>\n",
       "      <td>22.566668</td>\n",
       "      <td>22.858667</td>\n",
       "      <td>22.280666</td>\n",
       "      <td>22.656668</td>\n",
       "      <td>73848000</td>\n",
       "    </tr>\n",
       "    <tr>\n",
       "      <th>...</th>\n",
       "      <td>...</td>\n",
       "      <td>...</td>\n",
       "      <td>...</td>\n",
       "      <td>...</td>\n",
       "      <td>...</td>\n",
       "    </tr>\n",
       "    <tr>\n",
       "      <th>2021-11-30</th>\n",
       "      <td>334.436676</td>\n",
       "      <td>343.993347</td>\n",
       "      <td>326.200012</td>\n",
       "      <td>337.796661</td>\n",
       "      <td>35042700</td>\n",
       "    </tr>\n",
       "    <tr>\n",
       "      <th>2021-12-31</th>\n",
       "      <td>303.566681</td>\n",
       "      <td>307.230011</td>\n",
       "      <td>295.373322</td>\n",
       "      <td>299.980011</td>\n",
       "      <td>40733700</td>\n",
       "    </tr>\n",
       "    <tr>\n",
       "      <th>2022-01-31</th>\n",
       "      <td>277.186676</td>\n",
       "      <td>285.833344</td>\n",
       "      <td>264.003326</td>\n",
       "      <td>276.366669</td>\n",
       "      <td>66063300</td>\n",
       "    </tr>\n",
       "    <tr>\n",
       "      <th>2022-02-28</th>\n",
       "      <td>233.463333</td>\n",
       "      <td>267.493347</td>\n",
       "      <td>233.333328</td>\n",
       "      <td>254.679993</td>\n",
       "      <td>50729100</td>\n",
       "    </tr>\n",
       "    <tr>\n",
       "      <th>2022-03-31</th>\n",
       "      <td>265.176666</td>\n",
       "      <td>281.266663</td>\n",
       "      <td>260.723328</td>\n",
       "      <td>265.116669</td>\n",
       "      <td>58648500</td>\n",
       "    </tr>\n",
       "  </tbody>\n",
       "</table>\n",
       "<p>62 rows × 5 columns</p>\n",
       "</div>"
      ],
      "text/plain": [
       "                  Open        High         Low       Close    Volume\n",
       "Date                                                                \n",
       "2017-02-28   16.279333   16.557333   16.134001   16.415333  91171500\n",
       "2017-03-31   16.321333   16.433332   16.185333   16.246000  43791000\n",
       "2017-04-30   19.126667   19.933332   18.972000   19.666668  45535500\n",
       "2017-05-31   19.866667   20.518000   19.384001   19.697332  61824000\n",
       "2017-06-30   22.566668   22.858667   22.280666   22.656668  73848000\n",
       "...                ...         ...         ...         ...       ...\n",
       "2021-11-30  334.436676  343.993347  326.200012  337.796661  35042700\n",
       "2021-12-31  303.566681  307.230011  295.373322  299.980011  40733700\n",
       "2022-01-31  277.186676  285.833344  264.003326  276.366669  66063300\n",
       "2022-02-28  233.463333  267.493347  233.333328  254.679993  50729100\n",
       "2022-03-31  265.176666  281.266663  260.723328  265.116669  58648500\n",
       "\n",
       "[62 rows x 5 columns]"
      ]
     },
     "execution_count": 37,
     "metadata": {},
     "output_type": "execute_result"
    }
   ],
   "source": [
    "df_tesla.resample(rule='M').min()"
   ]
  }
 ],
 "metadata": {
  "kernelspec": {
   "display_name": "Python 3 (ipykernel)",
   "language": "python",
   "name": "python3"
  },
  "language_info": {
   "codemirror_mode": {
    "name": "ipython",
    "version": 3
   },
   "file_extension": ".py",
   "mimetype": "text/x-python",
   "name": "python",
   "nbconvert_exporter": "python",
   "pygments_lexer": "ipython3",
   "version": "3.9.12"
  }
 },
 "nbformat": 4,
 "nbformat_minor": 5
}
